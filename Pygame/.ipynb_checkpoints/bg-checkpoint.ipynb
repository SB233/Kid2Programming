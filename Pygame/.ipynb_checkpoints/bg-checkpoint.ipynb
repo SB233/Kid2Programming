{
 "cells": [
  {
   "cell_type": "code",
   "execution_count": null,
   "metadata": {
    "collapsed": true
   },
   "outputs": [],
   "source": [
    "# -*- coding: utf-8 -*-\n",
    "import pygame\n",
    "from pygame.locals import *"
   ]
  },
  {
   "cell_type": "code",
   "execution_count": null,
   "metadata": {
    "collapsed": true
   },
   "outputs": [],
   "source": [
    "def main():\n",
    "    # 创建窗口\n",
    "    screen = pygame.display.set_mode((480, 800))\n",
    "    # 设置窗口名称\n",
    "    pygame.display.set_caption(\"My Game\")\n",
    "    # 创建 Clock 对象\n",
    "    clock = pygame.time.Clock()\n",
    "\n",
    "\n",
    "    # 加载所需的图像资源\n",
    "    bg = pygame.image.load('images/background.png').convert()\n",
    "    plane = pygame.image.load('images/plane.png').convert_alpha()\n",
    "\n",
    "    # 程序逻辑主体\n",
    "    while True:\n",
    "        # 设置帧数为 30\n",
    "        clock.tick(30)\n",
    "        # 绘制背景\n",
    "        screen.blit(bg, (0, 0))\n",
    "        # 获取鼠标坐标\n",
    "        (x, y) = pygame.mouse.get_pos()\n",
    "        # 分别获取图像宽高\n",
    "        x -= plane.get_width() / 2\n",
    "        y -= plane.get_height() / 2\n",
    "        # 绘制飞机\n",
    "        screen.blit(plane, (x, y))\n",
    "\n",
    "        # 遍历处理事件\n",
    "        for event in pygame.event.get():\n",
    "            if event.type == QUIT:\n",
    "                return\n",
    "        # 更新画面\n",
    "        pygame.display.update()\n"
   ]
  },
  {
   "cell_type": "code",
   "execution_count": null,
   "metadata": {
    "collapsed": true
   },
   "outputs": [],
   "source": [
    "if __name__ == '__main__':\n",
    "    main()"
   ]
  },
  {
   "cell_type": "code",
   "execution_count": null,
   "metadata": {
    "collapsed": true
   },
   "outputs": [],
   "source": []
  }
 ],
 "metadata": {
  "kernelspec": {
   "display_name": "Python 3",
   "language": "python",
   "name": "python3"
  },
  "language_info": {
   "codemirror_mode": {
    "name": "ipython",
    "version": 3
   },
   "file_extension": ".py",
   "mimetype": "text/x-python",
   "name": "python",
   "nbconvert_exporter": "python",
   "pygments_lexer": "ipython3",
   "version": "3.6.1"
  }
 },
 "nbformat": 4,
 "nbformat_minor": 2
}
